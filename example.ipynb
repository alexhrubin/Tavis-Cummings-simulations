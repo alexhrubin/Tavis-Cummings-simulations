{
 "cells": [
  {
   "cell_type": "code",
   "execution_count": 2,
   "metadata": {},
   "outputs": [],
   "source": [
    "from tavis_cummings import Cavity, g_correlation_swept_pump\n",
    "import numpy as np"
   ]
  },
  {
   "cell_type": "code",
   "execution_count": 4,
   "metadata": {},
   "outputs": [
    {
     "name": "stdout",
     "output_type": "stream",
     "text": [
      "Total run time:   0.03s\n"
     ]
    },
    {
     "ename": "PicklingError",
     "evalue": "Can't pickle <class 'tavis_cummings.Cavity'>: it's not the same object as tavis_cummings.Cavity",
     "output_type": "error",
     "traceback": [
      "\u001b[0;31m---------------------------------------------------------------------------\u001b[0m",
      "\u001b[0;31mPicklingError\u001b[0m                             Traceback (most recent call last)",
      "Cell \u001b[0;32mIn[4], line 15\u001b[0m\n\u001b[1;32m      3\u001b[0m cavity \u001b[39m=\u001b[39m Cavity(\n\u001b[1;32m      4\u001b[0m     num_photons\u001b[39m=\u001b[39m\u001b[39m5\u001b[39m,\n\u001b[1;32m      5\u001b[0m     num_emitters\u001b[39m=\u001b[39m\u001b[39m2\u001b[39m,\n\u001b[0;32m   (...)\u001b[0m\n\u001b[1;32m     10\u001b[0m     kappa\u001b[39m=\u001b[39m\u001b[39m500e-3\u001b[39m,\n\u001b[1;32m     11\u001b[0m )\n\u001b[1;32m     13\u001b[0m drives \u001b[39m=\u001b[39m np\u001b[39m.\u001b[39mlinspace(wc \u001b[39m-\u001b[39m \u001b[39m10\u001b[39m, wc \u001b[39m+\u001b[39m \u001b[39m40\u001b[39m, \u001b[39m300\u001b[39m)\n\u001b[0;32m---> 15\u001b[0m fig \u001b[39m=\u001b[39m g_correlation_swept_pump(cavity, orders\u001b[39m=\u001b[39;49m[\u001b[39m2\u001b[39;49m, \u001b[39m3\u001b[39;49m, \u001b[39m4\u001b[39;49m], drive_frequencies\u001b[39m=\u001b[39;49mdrives, parallel\u001b[39m=\u001b[39;49m\u001b[39mTrue\u001b[39;49;00m)\n\u001b[1;32m     16\u001b[0m fig\u001b[39m.\u001b[39mupdate_yaxes(\u001b[39mtype\u001b[39m\u001b[39m=\u001b[39m\u001b[39m'\u001b[39m\u001b[39mlog\u001b[39m\u001b[39m'\u001b[39m, row\u001b[39m=\u001b[39m\u001b[39m1\u001b[39m, col\u001b[39m=\u001b[39m\u001b[39m1\u001b[39m)\n\u001b[1;32m     17\u001b[0m fig\u001b[39m.\u001b[39mupdate_yaxes(\u001b[39mtype\u001b[39m\u001b[39m=\u001b[39m\u001b[39m'\u001b[39m\u001b[39mlog\u001b[39m\u001b[39m'\u001b[39m, row\u001b[39m=\u001b[39m\u001b[39m2\u001b[39m, col\u001b[39m=\u001b[39m\u001b[39m1\u001b[39m)\n",
      "File \u001b[0;32m~/code/simulations/tavis_cummings.py:285\u001b[0m, in \u001b[0;36mg_correlation_swept_pump\u001b[0;34m(cavity, orders, drive_frequencies, pump_power, parallel)\u001b[0m\n\u001b[1;32m    281\u001b[0m \u001b[39mif\u001b[39;00m parallel:\n\u001b[1;32m    282\u001b[0m     \u001b[39m# OpenBLAS (used by qutip) ordinarily uses multithreading. This interferes with multicore\u001b[39;00m\n\u001b[1;32m    283\u001b[0m     \u001b[39m# scheduling, preventing the use of `parallel_map`, so let's temporarily disable that.\u001b[39;00m\n\u001b[1;32m    284\u001b[0m     \u001b[39mwith\u001b[39;00m threadpool_limits(limits\u001b[39m=\u001b[39m\u001b[39m1\u001b[39m, user_api\u001b[39m=\u001b[39m\u001b[39m\"\u001b[39m\u001b[39mblas\u001b[39m\u001b[39m\"\u001b[39m):\n\u001b[0;32m--> 285\u001b[0m         correlations_expect \u001b[39m=\u001b[39m parallel_map(\n\u001b[1;32m    286\u001b[0m             g_correlations,\n\u001b[1;32m    287\u001b[0m             drive_frequencies,\n\u001b[1;32m    288\u001b[0m             task_kwargs\u001b[39m=\u001b[39;49m\u001b[39mdict\u001b[39;49m(cavity\u001b[39m=\u001b[39;49mcavity, orders\u001b[39m=\u001b[39;49morders, pump_power\u001b[39m=\u001b[39;49mpump_power),\n\u001b[1;32m    289\u001b[0m             progress_bar\u001b[39m=\u001b[39;49m\u001b[39mTrue\u001b[39;49;00m,\n\u001b[1;32m    290\u001b[0m         )\n\u001b[1;32m    291\u001b[0m \u001b[39melse\u001b[39;00m:\n\u001b[1;32m    292\u001b[0m     \u001b[39m# At this point I'm not sure if it's safe for all users to enable parallelism by default\u001b[39;00m\n\u001b[1;32m    293\u001b[0m     correlations_expect \u001b[39m=\u001b[39m [\n\u001b[1;32m    294\u001b[0m         g_correlations(wd, cavity, orders, pump_power)\n\u001b[1;32m    295\u001b[0m         \u001b[39mfor\u001b[39;00m wd \u001b[39min\u001b[39;00m tqdm(drive_frequencies)\n\u001b[1;32m    296\u001b[0m     ]\n",
      "File \u001b[0;32m~/code/simulations/.venv_2/lib/python3.10/site-packages/qutip/parallel.py:235\u001b[0m, in \u001b[0;36mparallel_map\u001b[0;34m(task, values, task_args, task_kwargs, **kwargs)\u001b[0m\n\u001b[1;32m    233\u001b[0m progress_bar\u001b[39m.\u001b[39mfinished()\n\u001b[1;32m    234\u001b[0m os\u001b[39m.\u001b[39menviron[\u001b[39m'\u001b[39m\u001b[39mQUTIP_IN_PARALLEL\u001b[39m\u001b[39m'\u001b[39m] \u001b[39m=\u001b[39m \u001b[39m'\u001b[39m\u001b[39mFALSE\u001b[39m\u001b[39m'\u001b[39m\n\u001b[0;32m--> 235\u001b[0m \u001b[39mreturn\u001b[39;00m [ar\u001b[39m.\u001b[39mget() \u001b[39mfor\u001b[39;00m ar \u001b[39min\u001b[39;00m async_res]\n",
      "File \u001b[0;32m~/code/simulations/.venv_2/lib/python3.10/site-packages/qutip/parallel.py:235\u001b[0m, in \u001b[0;36m<listcomp>\u001b[0;34m(.0)\u001b[0m\n\u001b[1;32m    233\u001b[0m progress_bar\u001b[39m.\u001b[39mfinished()\n\u001b[1;32m    234\u001b[0m os\u001b[39m.\u001b[39menviron[\u001b[39m'\u001b[39m\u001b[39mQUTIP_IN_PARALLEL\u001b[39m\u001b[39m'\u001b[39m] \u001b[39m=\u001b[39m \u001b[39m'\u001b[39m\u001b[39mFALSE\u001b[39m\u001b[39m'\u001b[39m\n\u001b[0;32m--> 235\u001b[0m \u001b[39mreturn\u001b[39;00m [ar\u001b[39m.\u001b[39;49mget() \u001b[39mfor\u001b[39;00m ar \u001b[39min\u001b[39;00m async_res]\n",
      "File \u001b[0;32m~/.pyenv/versions/3.10.6/lib/python3.10/multiprocessing/pool.py:774\u001b[0m, in \u001b[0;36mApplyResult.get\u001b[0;34m(self, timeout)\u001b[0m\n\u001b[1;32m    772\u001b[0m     \u001b[39mreturn\u001b[39;00m \u001b[39mself\u001b[39m\u001b[39m.\u001b[39m_value\n\u001b[1;32m    773\u001b[0m \u001b[39melse\u001b[39;00m:\n\u001b[0;32m--> 774\u001b[0m     \u001b[39mraise\u001b[39;00m \u001b[39mself\u001b[39m\u001b[39m.\u001b[39m_value\n",
      "File \u001b[0;32m~/.pyenv/versions/3.10.6/lib/python3.10/multiprocessing/pool.py:540\u001b[0m, in \u001b[0;36mPool._handle_tasks\u001b[0;34m(taskqueue, put, outqueue, pool, cache)\u001b[0m\n\u001b[1;32m    538\u001b[0m     \u001b[39mbreak\u001b[39;00m\n\u001b[1;32m    539\u001b[0m \u001b[39mtry\u001b[39;00m:\n\u001b[0;32m--> 540\u001b[0m     put(task)\n\u001b[1;32m    541\u001b[0m \u001b[39mexcept\u001b[39;00m \u001b[39mException\u001b[39;00m \u001b[39mas\u001b[39;00m e:\n\u001b[1;32m    542\u001b[0m     job, idx \u001b[39m=\u001b[39m task[:\u001b[39m2\u001b[39m]\n",
      "File \u001b[0;32m~/.pyenv/versions/3.10.6/lib/python3.10/multiprocessing/connection.py:211\u001b[0m, in \u001b[0;36m_ConnectionBase.send\u001b[0;34m(self, obj)\u001b[0m\n\u001b[1;32m    209\u001b[0m \u001b[39mself\u001b[39m\u001b[39m.\u001b[39m_check_closed()\n\u001b[1;32m    210\u001b[0m \u001b[39mself\u001b[39m\u001b[39m.\u001b[39m_check_writable()\n\u001b[0;32m--> 211\u001b[0m \u001b[39mself\u001b[39m\u001b[39m.\u001b[39m_send_bytes(_ForkingPickler\u001b[39m.\u001b[39;49mdumps(obj))\n",
      "File \u001b[0;32m~/.pyenv/versions/3.10.6/lib/python3.10/multiprocessing/reduction.py:51\u001b[0m, in \u001b[0;36mForkingPickler.dumps\u001b[0;34m(cls, obj, protocol)\u001b[0m\n\u001b[1;32m     48\u001b[0m \u001b[39m@classmethod\u001b[39m\n\u001b[1;32m     49\u001b[0m \u001b[39mdef\u001b[39;00m \u001b[39mdumps\u001b[39m(\u001b[39mcls\u001b[39m, obj, protocol\u001b[39m=\u001b[39m\u001b[39mNone\u001b[39;00m):\n\u001b[1;32m     50\u001b[0m     buf \u001b[39m=\u001b[39m io\u001b[39m.\u001b[39mBytesIO()\n\u001b[0;32m---> 51\u001b[0m     \u001b[39mcls\u001b[39;49m(buf, protocol)\u001b[39m.\u001b[39;49mdump(obj)\n\u001b[1;32m     52\u001b[0m     \u001b[39mreturn\u001b[39;00m buf\u001b[39m.\u001b[39mgetbuffer()\n",
      "\u001b[0;31mPicklingError\u001b[0m: Can't pickle <class 'tavis_cummings.Cavity'>: it's not the same object as tavis_cummings.Cavity"
     ]
    }
   ],
   "source": [
    "wc = 1e3  # frequencies in MHz\n",
    "\n",
    "cavity = Cavity(\n",
    "    num_photons=5,\n",
    "    num_emitters=2,\n",
    "    cavity_freq=wc,\n",
    "    emitter_freq=[wc + 5, wc + 10],\n",
    "    g=10,\n",
    "    gamma=33e-3,\n",
    "    kappa=500e-3,\n",
    ")\n",
    "\n",
    "drives = np.linspace(wc - 10, wc + 40, 300)\n",
    "\n",
    "fig = g_correlation_swept_pump(cavity, orders=[2, 3, 4], drive_frequencies=drives, parallel=True)\n",
    "fig.update_yaxes(type='log', row=1, col=1)\n",
    "fig.update_yaxes(type='log', row=2, col=1)"
   ]
  },
  {
   "cell_type": "code",
   "execution_count": null,
   "metadata": {},
   "outputs": [],
   "source": []
  }
 ],
 "metadata": {
  "kernelspec": {
   "display_name": "venv",
   "language": "python",
   "name": "python3"
  },
  "language_info": {
   "codemirror_mode": {
    "name": "ipython",
    "version": 3
   },
   "file_extension": ".py",
   "mimetype": "text/x-python",
   "name": "python",
   "nbconvert_exporter": "python",
   "pygments_lexer": "ipython3",
   "version": "3.10.6"
  },
  "orig_nbformat": 4
 },
 "nbformat": 4,
 "nbformat_minor": 2
}
