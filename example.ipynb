{
 "cells": [
  {
   "cell_type": "code",
   "execution_count": 1,
   "metadata": {},
   "outputs": [],
   "source": [
    "from tavis_cummings import Cavity, g_correlation_swept_pump\n",
    "import numpy as np\n",
    "from qutip.entropy import entropy_vn"
   ]
  },
  {
   "cell_type": "code",
   "execution_count": 2,
   "metadata": {},
   "outputs": [],
   "source": [
    "wc = 5e3 # frequencies in MHz\n",
    "\n",
    "det = 30\n",
    "\n",
    "cavity = Cavity(\n",
    "    num_emitters=2,\n",
    "    num_photons=5,\n",
    "    cavity_freq=wc,\n",
    "    emitter_freq=[wc+det, wc+det+5],\n",
    "    g=10,\n",
    "    gamma=33e-3,\n",
    "    dephasing=66e-3,\n",
    "    kappa=2,\n",
    ")\n",
    "\n",
    "drive_frequencies = np.linspace(4.95e3, 5.1e3, 2000)\n",
    "\n",
    "fig = g_correlation_swept_pump(\n",
    "    cavity, orders=[2,3,4], drive_frequencies=drive_frequencies, parallel=True, pump_power=cavity.kappa/100,\n",
    ")\n",
    "fig.update_yaxes(type='log', row=1, col=1)\n",
    "fig.update_yaxes(type='log', row=2, col=1)\n",
    "fig.update_layout(width=700, margin=dict(l=20, r=20, t=20, b=5))"
   ]
  },
  {
   "cell_type": "code",
   "execution_count": null,
   "metadata": {},
   "outputs": [],
   "source": [
    "ss = cavity.steady_state(pump_frequency=5031.63078658, pump_power=cavity.kappa/100)\n",
    "ss"
   ]
  },
  {
   "cell_type": "code",
   "execution_count": null,
   "metadata": {},
   "outputs": [],
   "source": [
    "cavity_part = ss.ptrace(0)  # trace out the two emitters\n",
    "emitter_part = ss.ptrace([1, 2])  # trace out the cavity\n",
    "print(entropy_vn(cavity_part), entropy_vn(emitter_part))"
   ]
  },
  {
   "attachments": {},
   "cell_type": "markdown",
   "metadata": {},
   "source": [
    "# Comparison: \"Bell\" state\n",
    "States given as $|n,e_1,e_2\\rangle$, where $n$ is number of photons in the cavity ($n \\leq 5$),\n",
    "\n",
    "and emitter states $e_1$ and $e_2$ are $\\{|g\\rangle, |e\\rangle\\}$.\n",
    "\n",
    "Look at maximally entangled state $\\frac{1}{\\sqrt 2}\\left(|0, g, g\\rangle + |1, e, e\\rangle\\right)$,\n",
    "\n",
    "and calculate the von Neumann entropy of the cavity and emitter parts."
   ]
  },
  {
   "cell_type": "code",
   "execution_count": null,
   "metadata": {},
   "outputs": [],
   "source": [
    "from qutip import basis, tensor"
   ]
  },
  {
   "cell_type": "code",
   "execution_count": null,
   "metadata": {},
   "outputs": [],
   "source": [
    "bell = (\n",
    "    tensor(basis(6, 0), basis(2, 0), basis(2, 0)) \n",
    "    + tensor(basis(6, 1), basis(2, 1), basis(2, 1))\n",
    ").unit()"
   ]
  },
  {
   "cell_type": "code",
   "execution_count": null,
   "metadata": {},
   "outputs": [],
   "source": [
    "cavity_part = bell.ptrace(0)\n",
    "emitter_part = bell.ptrace([1, 2])\n",
    "print(entropy_vn(cavity_part), entropy_vn(emitter_part))"
   ]
  }
 ],
 "metadata": {
  "kernelspec": {
   "display_name": "venv",
   "language": "python",
   "name": "python3"
  },
  "language_info": {
   "codemirror_mode": {
    "name": "ipython",
    "version": 3
   },
   "file_extension": ".py",
   "mimetype": "text/x-python",
   "name": "python",
   "nbconvert_exporter": "python",
   "pygments_lexer": "ipython3",
   "version": "3.10.6"
  },
  "orig_nbformat": 4
 },
 "nbformat": 4,
 "nbformat_minor": 2
}
